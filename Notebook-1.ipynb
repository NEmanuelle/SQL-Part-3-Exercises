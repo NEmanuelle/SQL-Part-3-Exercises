{
    "metadata": {
        "kernelspec": {
            "name": "SQL",
            "display_name": "SQL",
            "language": "sql"
        },
        "language_info": {
            "name": "sql",
            "version": ""
        },
        "extensions": {
            "azuredatastudio": {
                "version": 1,
                "views": []
            }
        }
    },
    "nbformat_minor": 2,
    "nbformat": 4,
    "cells": [
        {
            "cell_type": "code",
            "source": [
                "--Explore all of the tables in the BooksDB\n",
                "--to_read Table\n",
                "SELECT TOP 1 *\n",
                "FROM to_read;\n",
                "\n",
                "--Books Table\n",
                "SELECT TOP 1 *\n",
                "FROM books;\n",
                "\n",
                "--Tags table\n",
                "SELECT TOP 1 *\n",
                "FROM tags;\n",
                "\n",
                "--Book Tags Table\n",
                "SELECT TOP 5 *\n",
                "FROM book_tags;\n",
                "\n",
                "--ratings table\n",
                "SELECT TOP 1 *\n",
                "FROM ratings;"
            ],
            "metadata": {
                "azdata_cell_guid": "edd8fe31-7c73-4eb9-bbe3-5286a94167a9",
                "language": "sql",
                "tags": []
            },
            "outputs": [
                {
                    "output_type": "display_data",
                    "data": {
                        "text/html": "(1 row affected)"
                    },
                    "metadata": {}
                },
                {
                    "output_type": "display_data",
                    "data": {
                        "text/html": "(1 row affected)"
                    },
                    "metadata": {}
                },
                {
                    "output_type": "display_data",
                    "data": {
                        "text/html": "(1 row affected)"
                    },
                    "metadata": {}
                },
                {
                    "output_type": "display_data",
                    "data": {
                        "text/html": "(5 rows affected)"
                    },
                    "metadata": {}
                },
                {
                    "output_type": "display_data",
                    "data": {
                        "text/html": "(1 row affected)"
                    },
                    "metadata": {}
                },
                {
                    "output_type": "display_data",
                    "data": {
                        "text/html": "Total execution time: 00:00:00.040"
                    },
                    "metadata": {}
                },
                {
                    "output_type": "execute_result",
                    "metadata": {},
                    "execution_count": 207,
                    "data": {
                        "application/vnd.dataresource+json": {
                            "schema": {
                                "fields": [
                                    {
                                        "name": "user_id"
                                    },
                                    {
                                        "name": "book_id"
                                    }
                                ]
                            },
                            "data": [
                                {
                                    "0": "1",
                                    "1": "112"
                                }
                            ]
                        },
                        "text/html": [
                            "<table>",
                            "<tr><th>user_id</th><th>book_id</th></tr>",
                            "<tr><td>1</td><td>112</td></tr>",
                            "</table>"
                        ]
                    }
                },
                {
                    "output_type": "execute_result",
                    "metadata": {},
                    "execution_count": 207,
                    "data": {
                        "application/vnd.dataresource+json": {
                            "schema": {
                                "fields": [
                                    {
                                        "name": "id"
                                    },
                                    {
                                        "name": "book_id"
                                    },
                                    {
                                        "name": "best_book_id"
                                    },
                                    {
                                        "name": "work_id"
                                    },
                                    {
                                        "name": "books_count"
                                    },
                                    {
                                        "name": "isbn"
                                    },
                                    {
                                        "name": "isbn13"
                                    },
                                    {
                                        "name": "authors"
                                    },
                                    {
                                        "name": "original_publication_year"
                                    },
                                    {
                                        "name": "original_title"
                                    },
                                    {
                                        "name": "title"
                                    },
                                    {
                                        "name": "language_code"
                                    },
                                    {
                                        "name": "average_rating"
                                    },
                                    {
                                        "name": "ratings_count"
                                    },
                                    {
                                        "name": "work_ratings_count"
                                    },
                                    {
                                        "name": "work_text_reviews_count"
                                    },
                                    {
                                        "name": "ratings_1"
                                    },
                                    {
                                        "name": "ratings_2"
                                    },
                                    {
                                        "name": "ratings_3"
                                    },
                                    {
                                        "name": "ratings_4"
                                    },
                                    {
                                        "name": "ratings_5"
                                    },
                                    {
                                        "name": "image_url"
                                    },
                                    {
                                        "name": "small_image_url"
                                    }
                                ]
                            },
                            "data": [
                                {
                                    "0": "1",
                                    "1": "2767052",
                                    "2": "2767052",
                                    "3": "2792775",
                                    "4": "272",
                                    "5": "439023483",
                                    "6": "9780439023480",
                                    "7": "Suzanne Collins",
                                    "8": "2008",
                                    "9": "The Hunger Games",
                                    "10": "The Hunger Games (The Hunger Games, #1)",
                                    "11": "eng",
                                    "12": "4.34",
                                    "13": "4780653",
                                    "14": "4942365",
                                    "15": "155254",
                                    "16": "66715",
                                    "17": "127936",
                                    "18": "560092",
                                    "19": "1481305",
                                    "20": "2706317",
                                    "21": "https://images.gr-assets.com/books/1447303603m/2767052.jpg",
                                    "22": "https://images.gr-assets.com/books/1447303603s/2767052.jpg"
                                }
                            ]
                        },
                        "text/html": [
                            "<table>",
                            "<tr><th>id</th><th>book_id</th><th>best_book_id</th><th>work_id</th><th>books_count</th><th>isbn</th><th>isbn13</th><th>authors</th><th>original_publication_year</th><th>original_title</th><th>title</th><th>language_code</th><th>average_rating</th><th>ratings_count</th><th>work_ratings_count</th><th>work_text_reviews_count</th><th>ratings_1</th><th>ratings_2</th><th>ratings_3</th><th>ratings_4</th><th>ratings_5</th><th>image_url</th><th>small_image_url</th></tr>",
                            "<tr><td>1</td><td>2767052</td><td>2767052</td><td>2792775</td><td>272</td><td>439023483</td><td>9780439023480</td><td>Suzanne Collins</td><td>2008</td><td>The Hunger Games</td><td>The Hunger Games (The Hunger Games, #1)</td><td>eng</td><td>4.34</td><td>4780653</td><td>4942365</td><td>155254</td><td>66715</td><td>127936</td><td>560092</td><td>1481305</td><td>2706317</td><td>https://images.gr-assets.com/books/1447303603m/2767052.jpg</td><td>https://images.gr-assets.com/books/1447303603s/2767052.jpg</td></tr>",
                            "</table>"
                        ]
                    }
                },
                {
                    "output_type": "execute_result",
                    "metadata": {},
                    "execution_count": 207,
                    "data": {
                        "application/vnd.dataresource+json": {
                            "schema": {
                                "fields": [
                                    {
                                        "name": "tag_id"
                                    },
                                    {
                                        "name": "tag_name"
                                    }
                                ]
                            },
                            "data": [
                                {
                                    "0": "0",
                                    "1": "-"
                                }
                            ]
                        },
                        "text/html": [
                            "<table>",
                            "<tr><th>tag_id</th><th>tag_name</th></tr>",
                            "<tr><td>0</td><td>-</td></tr>",
                            "</table>"
                        ]
                    }
                },
                {
                    "output_type": "execute_result",
                    "metadata": {},
                    "execution_count": 207,
                    "data": {
                        "application/vnd.dataresource+json": {
                            "schema": {
                                "fields": [
                                    {
                                        "name": "goodreads_book_id"
                                    },
                                    {
                                        "name": "tag_id"
                                    },
                                    {
                                        "name": "count"
                                    }
                                ]
                            },
                            "data": [
                                {
                                    "0": "1",
                                    "1": "30574",
                                    "2": "167697"
                                },
                                {
                                    "0": "1",
                                    "1": "11305",
                                    "2": "37174"
                                },
                                {
                                    "0": "1",
                                    "1": "11557",
                                    "2": "34173"
                                },
                                {
                                    "0": "1",
                                    "1": "8717",
                                    "2": "12986"
                                },
                                {
                                    "0": "1",
                                    "1": "33114",
                                    "2": "12716"
                                }
                            ]
                        },
                        "text/html": [
                            "<table>",
                            "<tr><th>goodreads_book_id</th><th>tag_id</th><th>count</th></tr>",
                            "<tr><td>1</td><td>30574</td><td>167697</td></tr>",
                            "<tr><td>1</td><td>11305</td><td>37174</td></tr>",
                            "<tr><td>1</td><td>11557</td><td>34173</td></tr>",
                            "<tr><td>1</td><td>8717</td><td>12986</td></tr>",
                            "<tr><td>1</td><td>33114</td><td>12716</td></tr>",
                            "</table>"
                        ]
                    }
                },
                {
                    "output_type": "execute_result",
                    "metadata": {},
                    "execution_count": 207,
                    "data": {
                        "application/vnd.dataresource+json": {
                            "schema": {
                                "fields": [
                                    {
                                        "name": "book_id"
                                    },
                                    {
                                        "name": "user_id"
                                    },
                                    {
                                        "name": "rating"
                                    }
                                ]
                            },
                            "data": [
                                {
                                    "0": "59",
                                    "1": "35146",
                                    "2": "4"
                                }
                            ]
                        },
                        "text/html": [
                            "<table>",
                            "<tr><th>book_id</th><th>user_id</th><th>rating</th></tr>",
                            "<tr><td>59</td><td>35146</td><td>4</td></tr>",
                            "</table>"
                        ]
                    }
                }
            ],
            "execution_count": 207
        },
        {
            "cell_type": "markdown",
            "source": [
                "# SQL Part 3 Exercises Joins\n",
                "\n",
                "This notebook works with the BooksDB dataset.  \n",
                "\n",
                "**Questions 1-4** focus on how joins work in a more general sense.  If you are not sure how to best answer the questions, try manipulating the queries by changing the order of joins, the length of the TOP, or how they are ordered.  \n",
                "\n",
                "> <span style=\"background-color: rgba(127, 127, 127, 0.1);\"><i>Note</i>: If some of the queries are not returning quickly, you can try closing and restarting azure data studio after a few minutes.</span>\n",
                "\n",
                "In **questions 5-8**, you will be asked to join tables to find results about titles, tags, and the books users want to read.\n",
                "\n",
                "As you go through the questions, you will see 'Minimum Desired Output'.  This will provide you with the bare minimum columns needed to answer the questions.  When you write the queries, add as many additional columns as you need to best find your answers."
            ],
            "metadata": {
                "azdata_cell_guid": "db9534a9-c8a7-4c09-8180-bcba0690bb02"
            },
            "attachments": {}
        },
        {
            "cell_type": "markdown",
            "source": [
                "## **QUESTION 1:**  Exploring a LEFT JOIN using the **books** and **to\\_read** tables\n",
                "\n",
                "The code block below has been commented out. To answer this question, you will need to uncomment it by removing the **/\\*** (line 1) and **\\*/** (line 16).\n",
                "\n",
                "**Part A:** Look at Query 1, which table is the 'Left' table and which is the 'Right'?\n",
                "\n",
                "> Your Answer:  Left table is 'books', right table is 'to\\_read'\n",
                "\n",
                "**Part B:** Using table 2, answer the following questions: \n",
                "\n",
                "- When we added a  '**WHERE tr.user\\_id IS NOT NULL'** clause (line 14), how did the table change?  Why?\n",
                "\n",
                "> Your Answer: It excludes rows where there is a Null value in to\\_read.user\\_id"
            ],
            "metadata": {
                "azdata_cell_guid": "660be568-9a70-40ff-a2fa-a78e31e87b6f"
            },
            "attachments": {}
        },
        {
            "cell_type": "code",
            "source": [
                "\n",
                "-- Query 1: LEFT JOIN \n",
                "SELECT TOP 5 b.title, b.average_rating, b.books_count,tr.user_id, tr.book_id\n",
                "FROM BooksDB.dbo.books AS b\n",
                "LEFT JOIN BooksDB.dbo.to_read AS tr\n",
                "ON b.best_book_id = tr.book_id\n",
                "ORDER BY b.average_rating;\n",
                "\n",
                "-- Query 2: LEFT JOIN USING 'IS NOT NULL'\n",
                "SELECT TOP 5 b.title, b.average_rating, b.books_count,tr.user_id, tr.book_id\n",
                "FROM BooksDB.dbo.books AS b\n",
                "LEFT JOIN BooksDB.dbo.to_read AS tr\n",
                "ON b.best_book_id = tr.book_id\n",
                "WHERE tr.user_id IS NOT NULL\n",
                "ORDER BY b.average_rating;\n",
                ""
            ],
            "metadata": {
                "azdata_cell_guid": "25dcd34c-5e5d-4393-9da0-a4c0effb6455",
                "tags": [],
                "language": "sql"
            },
            "outputs": [
                {
                    "output_type": "display_data",
                    "data": {
                        "text/html": "(5 rows affected)"
                    },
                    "metadata": {}
                },
                {
                    "output_type": "display_data",
                    "data": {
                        "text/html": "(5 rows affected)"
                    },
                    "metadata": {}
                },
                {
                    "output_type": "display_data",
                    "data": {
                        "text/html": "Total execution time: 00:00:05.857"
                    },
                    "metadata": {}
                },
                {
                    "output_type": "execute_result",
                    "metadata": {},
                    "execution_count": 1,
                    "data": {
                        "application/vnd.dataresource+json": {
                            "schema": {
                                "fields": [
                                    {
                                        "name": "title"
                                    },
                                    {
                                        "name": "average_rating"
                                    },
                                    {
                                        "name": "books_count"
                                    },
                                    {
                                        "name": "user_id"
                                    },
                                    {
                                        "name": "book_id"
                                    }
                                ]
                            },
                            "data": [
                                {
                                    "0": "One Night at the Call Center",
                                    "1": "2.47",
                                    "2": "25",
                                    "3": "NULL",
                                    "4": "NULL"
                                },
                                {
                                    "0": "The Almost Moon",
                                    "1": "2.67",
                                    "2": "63",
                                    "3": "NULL",
                                    "4": "NULL"
                                },
                                {
                                    "0": "The Finkler Question",
                                    "1": "2.76",
                                    "2": "45",
                                    "3": "NULL",
                                    "4": "NULL"
                                },
                                {
                                    "0": "Four Blondes",
                                    "1": "2.8",
                                    "2": "57",
                                    "3": "449",
                                    "4": "6613"
                                },
                                {
                                    "0": "Four Blondes",
                                    "1": "2.8",
                                    "2": "57",
                                    "3": "1378",
                                    "4": "6613"
                                }
                            ]
                        },
                        "text/html": [
                            "<table>",
                            "<tr><th>title</th><th>average_rating</th><th>books_count</th><th>user_id</th><th>book_id</th></tr>",
                            "<tr><td>One Night at the Call Center</td><td>2.47</td><td>25</td><td>NULL</td><td>NULL</td></tr>",
                            "<tr><td>The Almost Moon</td><td>2.67</td><td>63</td><td>NULL</td><td>NULL</td></tr>",
                            "<tr><td>The Finkler Question</td><td>2.76</td><td>45</td><td>NULL</td><td>NULL</td></tr>",
                            "<tr><td>Four Blondes</td><td>2.8</td><td>57</td><td>449</td><td>6613</td></tr>",
                            "<tr><td>Four Blondes</td><td>2.8</td><td>57</td><td>1378</td><td>6613</td></tr>",
                            "</table>"
                        ]
                    }
                },
                {
                    "output_type": "execute_result",
                    "metadata": {},
                    "execution_count": 1,
                    "data": {
                        "application/vnd.dataresource+json": {
                            "schema": {
                                "fields": [
                                    {
                                        "name": "title"
                                    },
                                    {
                                        "name": "average_rating"
                                    },
                                    {
                                        "name": "books_count"
                                    },
                                    {
                                        "name": "user_id"
                                    },
                                    {
                                        "name": "book_id"
                                    }
                                ]
                            },
                            "data": [
                                {
                                    "0": "Four Blondes",
                                    "1": "2.8",
                                    "2": "57",
                                    "3": "449",
                                    "4": "6613"
                                },
                                {
                                    "0": "Four Blondes",
                                    "1": "2.8",
                                    "2": "57",
                                    "3": "1378",
                                    "4": "6613"
                                },
                                {
                                    "0": "Four Blondes",
                                    "1": "2.8",
                                    "2": "57",
                                    "3": "6465",
                                    "4": "6613"
                                },
                                {
                                    "0": "Four Blondes",
                                    "1": "2.8",
                                    "2": "57",
                                    "3": "6700",
                                    "4": "6613"
                                },
                                {
                                    "0": "Four Blondes",
                                    "1": "2.8",
                                    "2": "57",
                                    "3": "7830",
                                    "4": "6613"
                                }
                            ]
                        },
                        "text/html": [
                            "<table>",
                            "<tr><th>title</th><th>average_rating</th><th>books_count</th><th>user_id</th><th>book_id</th></tr>",
                            "<tr><td>Four Blondes</td><td>2.8</td><td>57</td><td>449</td><td>6613</td></tr>",
                            "<tr><td>Four Blondes</td><td>2.8</td><td>57</td><td>1378</td><td>6613</td></tr>",
                            "<tr><td>Four Blondes</td><td>2.8</td><td>57</td><td>6465</td><td>6613</td></tr>",
                            "<tr><td>Four Blondes</td><td>2.8</td><td>57</td><td>6700</td><td>6613</td></tr>",
                            "<tr><td>Four Blondes</td><td>2.8</td><td>57</td><td>7830</td><td>6613</td></tr>",
                            "</table>"
                        ]
                    }
                }
            ],
            "execution_count": 1
        },
        {
            "cell_type": "markdown",
            "source": [
                "## **QUESTION 2:** Exploring **RIGHT** joins with the **books** and **to\\_read** tables\n",
                "\n",
                "You will need to uncomment the Query to answer the question.\n",
                "\n",
                "**Part A:** Looking at the query, which table is the 'Left' and which is the 'Right'?\n",
                "\n",
                "> Your Answer: Left table is books, right table is to\\_read\n",
                "\n",
                "**Part B:** How do the RIGHT-joined tables differ from the LEFT-joined tables in Question 1?  \n",
                "\n",
                "> Your Answer: This returned all of the values for the right table, and  the matching rows for the left table. If there was no mathcing row on the left side- the value returns as null. This means for rows 2-5 there was no match for the book\\_id in the books table. Whereas in question 1, we would have seen all of the values for title, avg\\_rating and books\\_count, with null values listed in user\\_id and book\\_id where there was no match. 2-5 would have been omitted in a left join."
            ],
            "metadata": {
                "azdata_cell_guid": "c1e417d9-89d2-4a7d-ab46-b43c8bddc54f"
            },
            "attachments": {}
        },
        {
            "cell_type": "code",
            "source": [
                "\n",
                "-- Query 1: RIGHT JOIN\n",
                "SELECT TOP 5 b.title, b.average_rating, b.books_count, tr.user_id, tr.book_id\n",
                "FROM BooksDB.dbo.books AS b\n",
                "RIGHT JOIN BooksDB.dbo.to_read AS tr\n",
                "ON b.best_book_id = tr.book_id;\n",
                "\n",
                ""
            ],
            "metadata": {
                "azdata_cell_guid": "8cf020b8-2a76-46a6-acff-97eb1acc7fed",
                "tags": [],
                "language": "sql"
            },
            "outputs": [
                {
                    "output_type": "display_data",
                    "data": {
                        "text/html": "(5 rows affected)"
                    },
                    "metadata": {}
                },
                {
                    "output_type": "display_data",
                    "data": {
                        "text/html": "Total execution time: 00:00:00.108"
                    },
                    "metadata": {}
                },
                {
                    "output_type": "execute_result",
                    "metadata": {},
                    "execution_count": 5,
                    "data": {
                        "application/vnd.dataresource+json": {
                            "schema": {
                                "fields": [
                                    {
                                        "name": "title"
                                    },
                                    {
                                        "name": "average_rating"
                                    },
                                    {
                                        "name": "books_count"
                                    },
                                    {
                                        "name": "user_id"
                                    },
                                    {
                                        "name": "book_id"
                                    }
                                ]
                            },
                            "data": [
                                {
                                    "0": "Children of Dune (Dune Chronicles #3)",
                                    "1": "3.9",
                                    "2": "116",
                                    "3": "1",
                                    "4": "112"
                                },
                                {
                                    "0": "NULL",
                                    "1": "NULL",
                                    "2": "NULL",
                                    "3": "1",
                                    "4": "235"
                                },
                                {
                                    "0": "NULL",
                                    "1": "NULL",
                                    "2": "NULL",
                                    "3": "1",
                                    "4": "533"
                                },
                                {
                                    "0": "NULL",
                                    "1": "NULL",
                                    "2": "NULL",
                                    "3": "1",
                                    "4": "1198"
                                },
                                {
                                    "0": "NULL",
                                    "1": "NULL",
                                    "2": "NULL",
                                    "3": "1",
                                    "4": "1874"
                                }
                            ]
                        },
                        "text/html": [
                            "<table>",
                            "<tr><th>title</th><th>average_rating</th><th>books_count</th><th>user_id</th><th>book_id</th></tr>",
                            "<tr><td>Children of Dune (Dune Chronicles #3)</td><td>3.9</td><td>116</td><td>1</td><td>112</td></tr>",
                            "<tr><td>NULL</td><td>NULL</td><td>NULL</td><td>1</td><td>235</td></tr>",
                            "<tr><td>NULL</td><td>NULL</td><td>NULL</td><td>1</td><td>533</td></tr>",
                            "<tr><td>NULL</td><td>NULL</td><td>NULL</td><td>1</td><td>1198</td></tr>",
                            "<tr><td>NULL</td><td>NULL</td><td>NULL</td><td>1</td><td>1874</td></tr>",
                            "</table>"
                        ]
                    }
                }
            ],
            "execution_count": 5
        },
        {
            "cell_type": "markdown",
            "source": [
                "## **QUESTION 3:** Exploring FULL JOINS with the **books** and **to\\_read** tables\n",
                "\n",
                "You will need to uncomment the Query to answer the question.\n",
                "\n",
                "**Part A:**  Look at the table and explore how it was populated.  Try manipulating the query to better understand how this table works.  Try adding a WHERE clause, or ORDER BY a column on the **books** table.  Based on your exploration, can you think of when you might want a FULL join rather than a LEFT, RIGHT, or INNER?\n",
                "\n",
                "> Your Answer: I would use a FULL JOIN if I wanted access to all of the rows in the called columns, regarless if they are null or not."
            ],
            "metadata": {
                "azdata_cell_guid": "8f6b8f22-3e5a-4b87-a2f2-07279f1deb94"
            },
            "attachments": {}
        },
        {
            "cell_type": "code",
            "source": [
                "\n",
                "-- FULL JOIN\n",
                "SELECT TOP 5 b.title, b.average_rating, b.books_count,tr.user_id, tr.book_id\n",
                "FROM BooksDB.dbo.books AS b\n",
                "FULL JOIN BooksDB.dbo.to_read AS tr\n",
                "ON b.book_id = tr.book_id\n",
                "WHERE average_rating IS NOT NULL\n",
                "ORDER BY books_count ASC;\n",
                "\n",
                ""
            ],
            "metadata": {
                "azdata_cell_guid": "7c2a3dff-ef55-4222-aef0-7c0ab4f942eb",
                "tags": [],
                "language": "sql"
            },
            "outputs": [
                {
                    "output_type": "display_data",
                    "data": {
                        "text/html": "(5 rows affected)"
                    },
                    "metadata": {}
                },
                {
                    "output_type": "display_data",
                    "data": {
                        "text/html": "Total execution time: 00:00:03.160"
                    },
                    "metadata": {}
                },
                {
                    "output_type": "execute_result",
                    "metadata": {},
                    "execution_count": 20,
                    "data": {
                        "application/vnd.dataresource+json": {
                            "schema": {
                                "fields": [
                                    {
                                        "name": "title"
                                    },
                                    {
                                        "name": "average_rating"
                                    },
                                    {
                                        "name": "books_count"
                                    },
                                    {
                                        "name": "user_id"
                                    },
                                    {
                                        "name": "book_id"
                                    }
                                ]
                            },
                            "data": [
                                {
                                    "0": "Wreckage",
                                    "1": "3.66",
                                    "2": "1",
                                    "3": "NULL",
                                    "4": "NULL"
                                },
                                {
                                    "0": "High Noon",
                                    "1": "3.94",
                                    "2": "1",
                                    "3": "NULL",
                                    "4": "NULL"
                                },
                                {
                                    "0": "Henry & Ramona",
                                    "1": "4.14",
                                    "2": "1",
                                    "3": "NULL",
                                    "4": "NULL"
                                },
                                {
                                    "0": "Psycho",
                                    "1": "4.09",
                                    "2": "1",
                                    "3": "NULL",
                                    "4": "NULL"
                                },
                                {
                                    "0": "Wicked: The Grimmerie",
                                    "1": "4.17",
                                    "2": "1",
                                    "3": "NULL",
                                    "4": "NULL"
                                }
                            ]
                        },
                        "text/html": [
                            "<table>",
                            "<tr><th>title</th><th>average_rating</th><th>books_count</th><th>user_id</th><th>book_id</th></tr>",
                            "<tr><td>Wreckage</td><td>3.66</td><td>1</td><td>NULL</td><td>NULL</td></tr>",
                            "<tr><td>High Noon</td><td>3.94</td><td>1</td><td>NULL</td><td>NULL</td></tr>",
                            "<tr><td>Henry &amp; Ramona</td><td>4.14</td><td>1</td><td>NULL</td><td>NULL</td></tr>",
                            "<tr><td>Psycho</td><td>4.09</td><td>1</td><td>NULL</td><td>NULL</td></tr>",
                            "<tr><td>Wicked: The Grimmerie</td><td>4.17</td><td>1</td><td>NULL</td><td>NULL</td></tr>",
                            "</table>"
                        ]
                    }
                }
            ],
            "execution_count": 20
        },
        {
            "cell_type": "markdown",
            "source": [
                "## **QUESTION 4:** Exploring INNER Joins with the **books** and **to\\_read** tables\n",
                "\n",
                "You will need to uncomment the Query to answer the question.\n",
                "\n",
                "**Part A:**  What does an inner join do?\n",
                "\n",
                "> <span style=\"background-color: rgba(127, 127, 127, 0.1); font-family: -apple-system, BlinkMacSystemFont, sans-serif;\">Your Answer: Joins the tables and only returns records that match (no null values).</span>\n",
                "\n",
                "<span style=\"background-color: rgba(127, 127, 127, 0.1); font-family: -apple-system, BlinkMacSystemFont, sans-serif;\"><b>Part B:</b>&nbsp;Currently this table has an <b>'IS NOT NULL'</b> in the <b>WHERE</b> clause.&nbsp; Is this necessary for this table?&nbsp; Why or Why not?&nbsp;</span> \n",
                "\n",
                "> Your Answer: No, because an INNER JOIN doesn't return NULL values\n",
                "\n",
                "**Part C:**  When using SQL, you are usually returning much larger tables so every line of code will add to the compilation and return time.  Rewrite this inner join query so that it contains no redundant code.   \n",
                "\n",
                "> Your Answer:  Update the query in the code box below."
            ],
            "metadata": {
                "azdata_cell_guid": "4dab11ce-7995-4444-92dd-4cb2c0bc02c8"
            },
            "attachments": {}
        },
        {
            "cell_type": "code",
            "source": [
                "\n",
                "-- INNER JOIN\n",
                "SELECT TOP 10 b.title, b.average_rating, b.books_count,tr.user_id, tr.book_id\n",
                "FROM BooksDB.dbo.books AS b\n",
                "INNER JOIN BooksDB.dbo.to_read AS tr\n",
                "ON b.book_id = tr.book_id\n",
                "ORDER BY tr.book_id;\n",
                ""
            ],
            "metadata": {
                "azdata_cell_guid": "66d430ab-18aa-4a29-a32d-0585445e417c",
                "tags": [],
                "language": "sql"
            },
            "outputs": [
                {
                    "output_type": "display_data",
                    "data": {
                        "text/html": "(10 rows affected)"
                    },
                    "metadata": {}
                },
                {
                    "output_type": "display_data",
                    "data": {
                        "text/html": "Total execution time: 00:00:00.060"
                    },
                    "metadata": {}
                },
                {
                    "output_type": "execute_result",
                    "metadata": {},
                    "execution_count": 29,
                    "data": {
                        "application/vnd.dataresource+json": {
                            "schema": {
                                "fields": [
                                    {
                                        "name": "title"
                                    },
                                    {
                                        "name": "average_rating"
                                    },
                                    {
                                        "name": "books_count"
                                    },
                                    {
                                        "name": "user_id"
                                    },
                                    {
                                        "name": "book_id"
                                    }
                                ]
                            },
                            "data": [
                                {
                                    "0": "Harry Potter and the Half-Blood Prince (Harry Potter, #6)",
                                    "1": "4.54",
                                    "2": "275",
                                    "3": "12",
                                    "4": "1"
                                },
                                {
                                    "0": "Harry Potter and the Half-Blood Prince (Harry Potter, #6)",
                                    "1": "4.54",
                                    "2": "275",
                                    "3": "192",
                                    "4": "1"
                                },
                                {
                                    "0": "Harry Potter and the Half-Blood Prince (Harry Potter, #6)",
                                    "1": "4.54",
                                    "2": "275",
                                    "3": "202",
                                    "4": "1"
                                },
                                {
                                    "0": "Harry Potter and the Half-Blood Prince (Harry Potter, #6)",
                                    "1": "4.54",
                                    "2": "275",
                                    "3": "244",
                                    "4": "1"
                                },
                                {
                                    "0": "Harry Potter and the Half-Blood Prince (Harry Potter, #6)",
                                    "1": "4.54",
                                    "2": "275",
                                    "3": "253",
                                    "4": "1"
                                },
                                {
                                    "0": "Harry Potter and the Half-Blood Prince (Harry Potter, #6)",
                                    "1": "4.54",
                                    "2": "275",
                                    "3": "350",
                                    "4": "1"
                                },
                                {
                                    "0": "Harry Potter and the Half-Blood Prince (Harry Potter, #6)",
                                    "1": "4.54",
                                    "2": "275",
                                    "3": "478",
                                    "4": "1"
                                },
                                {
                                    "0": "Harry Potter and the Half-Blood Prince (Harry Potter, #6)",
                                    "1": "4.54",
                                    "2": "275",
                                    "3": "511",
                                    "4": "1"
                                },
                                {
                                    "0": "Harry Potter and the Half-Blood Prince (Harry Potter, #6)",
                                    "1": "4.54",
                                    "2": "275",
                                    "3": "525",
                                    "4": "1"
                                },
                                {
                                    "0": "Harry Potter and the Half-Blood Prince (Harry Potter, #6)",
                                    "1": "4.54",
                                    "2": "275",
                                    "3": "527",
                                    "4": "1"
                                }
                            ]
                        },
                        "text/html": [
                            "<table>",
                            "<tr><th>title</th><th>average_rating</th><th>books_count</th><th>user_id</th><th>book_id</th></tr>",
                            "<tr><td>Harry Potter and the Half-Blood Prince (Harry Potter, #6)</td><td>4.54</td><td>275</td><td>12</td><td>1</td></tr>",
                            "<tr><td>Harry Potter and the Half-Blood Prince (Harry Potter, #6)</td><td>4.54</td><td>275</td><td>192</td><td>1</td></tr>",
                            "<tr><td>Harry Potter and the Half-Blood Prince (Harry Potter, #6)</td><td>4.54</td><td>275</td><td>202</td><td>1</td></tr>",
                            "<tr><td>Harry Potter and the Half-Blood Prince (Harry Potter, #6)</td><td>4.54</td><td>275</td><td>244</td><td>1</td></tr>",
                            "<tr><td>Harry Potter and the Half-Blood Prince (Harry Potter, #6)</td><td>4.54</td><td>275</td><td>253</td><td>1</td></tr>",
                            "<tr><td>Harry Potter and the Half-Blood Prince (Harry Potter, #6)</td><td>4.54</td><td>275</td><td>350</td><td>1</td></tr>",
                            "<tr><td>Harry Potter and the Half-Blood Prince (Harry Potter, #6)</td><td>4.54</td><td>275</td><td>478</td><td>1</td></tr>",
                            "<tr><td>Harry Potter and the Half-Blood Prince (Harry Potter, #6)</td><td>4.54</td><td>275</td><td>511</td><td>1</td></tr>",
                            "<tr><td>Harry Potter and the Half-Blood Prince (Harry Potter, #6)</td><td>4.54</td><td>275</td><td>525</td><td>1</td></tr>",
                            "<tr><td>Harry Potter and the Half-Blood Prince (Harry Potter, #6)</td><td>4.54</td><td>275</td><td>527</td><td>1</td></tr>",
                            "</table>"
                        ]
                    }
                }
            ],
            "execution_count": 29
        },
        {
            "cell_type": "markdown",
            "source": [
                "## **QUESTION 5:**  Using joins to find the most tagged book and the most popular tag\n",
                "\n",
                "We will be writing 3 queries to find both the most tagged book and that book's most popular tag.\n",
                "\n",
                "**Part A:**  What is the most tagged book? _**Harry Potter and the Sorcerer's Stone (Harry Potter, #1)**_\n",
                "\n",
                "<span style=\"font-family: -apple-system, BlinkMacSystemFont, sans-serif; background-color: rgba(127, 127, 127, 0.1);\">Start by joining the </span> **books** <span style=\"font-family: -apple-system, BlinkMacSystemFont, sans-serif; background-color: rgba(127, 127, 127, 0.1);\">and </span> **book\\_tags**                 <span style=\"font-family: -apple-system, BlinkMacSystemFont, sans-serif; background-color: rgba(127, 127, 127, 0.1);\">&nbsp;tables ON the books.best_book_id and book_tags.goodreads_book_id.&nbsp;&nbsp;</span>            \n",
                "\n",
                ">                     <span style=\"background-color: rgba(127, 127, 127, 0.1); font-family: -apple-system, BlinkMacSystemFont, sans-serif;\">We want the <i>most popular</i> book, so think about ordering the table in a way that will display both the book title and the number of times a book tag has been used.</span>\n",
                "> \n",
                "> _MInimum Desired output:_  The title of the most tagged book, and the number of times the book has been tagged.\n",
                "\n",
                "**Part B:** How many different tags have been used for the most tagged book? **100**\n",
                "\n",
                "> <span style=\"font-family: -apple-system, BlinkMacSystemFont, sans-serif; background-color: rgba(127, 127, 127, 0.1);\">Start by joining the&nbsp;</span>                 **books** <span style=\"font-family: -apple-system, BlinkMacSystemFont, sans-serif; background-color: rgba(127, 127, 127, 0.1);\">and&nbsp;</span>                 **book\\_tags**                 <span style=\"font-family: -apple-system, BlinkMacSystemFont, sans-serif; background-color: rgba(127, 127, 127, 0.1);\">&nbsp;tables ON the books.best_book_id and book_tags.goodreads_book_id.&nbsp;&nbsp;<br></span>                                We want to find the _most popular_ tag id, so think about ordering in a way that will display the most popular tag id.\n",
                "> \n",
                "> <span style=\"font-family: -apple-system, BlinkMacSystemFont, sans-serif; background-color: rgba(127, 127, 127, 0.1);\"><i>Minimum Desired Output:</i> The tag id for the most popular tag used for the most tagged book.&nbsp;</span>                \n",
                "> \n",
                "> <span style=\"font-family: -apple-system, BlinkMacSystemFont, sans-serif; background-color: rgba(127, 127, 127, 0.1);\"><b>Tag Id: 30574</b></span>\n",
                "\n",
                "<span style=\"font-family: -apple-system, BlinkMacSystemFont, sans-serif; background-color: rgba(127, 127, 127, 0.1);\"><b>Part C: </b>What is this particular tag? <b>to-read</b></span>\n",
                "\n",
                "> You may return this answer with a simple query.\n",
                "\n",
                "> <span style=\"font-family: -apple-system, BlinkMacSystemFont, sans-serif; background-color: rgba(127, 127, 127, 0.1);\"><i>Minimum Desired Output:</i>&nbsp;The tag name for the most popular tag used for the most tagged book.&nbsp;</span>                \n",
                "> \n",
                "> <span style=\"font-family: -apple-system, BlinkMacSystemFont, sans-serif; background-color: rgba(127, 127, 127, 0.1);\"><b>Tag Name: 'to-read'</b></span>"
            ],
            "metadata": {
                "azdata_cell_guid": "a685e9cc-2ae2-40e8-8cc1-022c8064d66d"
            },
            "attachments": {}
        },
        {
            "cell_type": "code",
            "source": [
                "-- Code Here: PART A\n",
                "-- Most tagged book\n",
                "SELECT TOP 5\n",
                "SUM (count) 'tag_count', b.best_book_id, title\n",
                "FROM books AS b \n",
                "LEFT JOIN book_tags AS bt \n",
                "ON b.best_book_id = bt.goodreads_book_id\n",
                "GROUP BY b.best_book_id, title\n",
                "ORDER BY tag_count DESC;\n",
                "\n",
                "--The number of unique tags the most tagged book has\n",
                "SELECT \n",
                "COUNT (tag_id) 'Number of tags'\n",
                "FROM book_tags \n",
                "WHERE goodreads_book_id = 3;\n",
                "\n",
                "--The number of times the most popular tag was used for the most popular book\n",
                "SELECT TOP 5\n",
                "bt.count, tag_id, b.title, bt.goodreads_book_id\n",
                "FROM books AS b \n",
                "LEFT JOIN book_tags AS bt \n",
                "ON b.best_book_id = bt.goodreads_book_id\n",
                "WHERE b.best_book_id = 3\n",
                "ORDER BY bt.count DESC;\n",
                "\n",
                "--The tag_name of the the most popular tag used on the most poular book. \n",
                "SELECT TOP 5 *\n",
                "FROM tags\n",
                "WHERE tag_id = 30574;"
            ],
            "metadata": {
                "azdata_cell_guid": "de3ac253-6b47-4740-8c6e-5f9d1b0ce36b",
                "language": "sql",
                "tags": []
            },
            "outputs": [
                {
                    "output_type": "display_data",
                    "data": {
                        "text/html": "Warning: Null value is eliminated by an aggregate or other SET operation."
                    },
                    "metadata": {}
                },
                {
                    "output_type": "display_data",
                    "data": {
                        "text/html": "(5 rows affected)"
                    },
                    "metadata": {}
                },
                {
                    "output_type": "display_data",
                    "data": {
                        "text/html": "(1 row affected)"
                    },
                    "metadata": {}
                },
                {
                    "output_type": "display_data",
                    "data": {
                        "text/html": "(5 rows affected)"
                    },
                    "metadata": {}
                },
                {
                    "output_type": "display_data",
                    "data": {
                        "text/html": "(1 row affected)"
                    },
                    "metadata": {}
                },
                {
                    "output_type": "display_data",
                    "data": {
                        "text/html": "Total execution time: 00:00:02.357"
                    },
                    "metadata": {}
                },
                {
                    "output_type": "execute_result",
                    "metadata": {},
                    "execution_count": 224,
                    "data": {
                        "application/vnd.dataresource+json": {
                            "schema": {
                                "fields": [
                                    {
                                        "name": "tag_count"
                                    },
                                    {
                                        "name": "best_book_id"
                                    },
                                    {
                                        "name": "title"
                                    }
                                ]
                            },
                            "data": [
                                {
                                    "0": "786374",
                                    "1": "3",
                                    "2": "Harry Potter and the Sorcerer's Stone (Harry Potter, #1)"
                                },
                                {
                                    "0": "679219",
                                    "1": "2429135",
                                    "2": "The Girl with the Dragon Tattoo (Millennium, #1)"
                                },
                                {
                                    "0": "675971",
                                    "1": "865",
                                    "2": "The Alchemist"
                                },
                                {
                                    "0": "600025",
                                    "1": "18143977",
                                    "2": "All the Light We Cannot See"
                                },
                                {
                                    "0": "597465",
                                    "1": "24280",
                                    "2": "Les Misérables"
                                }
                            ]
                        },
                        "text/html": [
                            "<table>",
                            "<tr><th>tag_count</th><th>best_book_id</th><th>title</th></tr>",
                            "<tr><td>786374</td><td>3</td><td>Harry Potter and the Sorcerer's Stone (Harry Potter, #1)</td></tr>",
                            "<tr><td>679219</td><td>2429135</td><td>The Girl with the Dragon Tattoo (Millennium, #1)</td></tr>",
                            "<tr><td>675971</td><td>865</td><td>The Alchemist</td></tr>",
                            "<tr><td>600025</td><td>18143977</td><td>All the Light We Cannot See</td></tr>",
                            "<tr><td>597465</td><td>24280</td><td>Les Misérables</td></tr>",
                            "</table>"
                        ]
                    }
                },
                {
                    "output_type": "execute_result",
                    "metadata": {},
                    "execution_count": 224,
                    "data": {
                        "application/vnd.dataresource+json": {
                            "schema": {
                                "fields": [
                                    {
                                        "name": "Number of tags"
                                    }
                                ]
                            },
                            "data": [
                                {
                                    "0": "100"
                                }
                            ]
                        },
                        "text/html": [
                            "<table>",
                            "<tr><th>Number of tags</th></tr>",
                            "<tr><td>100</td></tr>",
                            "</table>"
                        ]
                    }
                },
                {
                    "output_type": "execute_result",
                    "metadata": {},
                    "execution_count": 224,
                    "data": {
                        "application/vnd.dataresource+json": {
                            "schema": {
                                "fields": [
                                    {
                                        "name": "count"
                                    },
                                    {
                                        "name": "tag_id"
                                    },
                                    {
                                        "name": "title"
                                    },
                                    {
                                        "name": "goodreads_book_id"
                                    }
                                ]
                            },
                            "data": [
                                {
                                    "0": "496107",
                                    "1": "30574",
                                    "2": "Harry Potter and the Sorcerer's Stone (Harry Potter, #1)",
                                    "3": "3"
                                },
                                {
                                    "0": "48220",
                                    "1": "11557",
                                    "2": "Harry Potter and the Sorcerer's Stone (Harry Potter, #1)",
                                    "3": "3"
                                },
                                {
                                    "0": "47478",
                                    "1": "11305",
                                    "2": "Harry Potter and the Sorcerer's Stone (Harry Potter, #1)",
                                    "3": "3"
                                },
                                {
                                    "0": "44640",
                                    "1": "8717",
                                    "2": "Harry Potter and the Sorcerer's Stone (Harry Potter, #1)",
                                    "3": "3"
                                },
                                {
                                    "0": "14984",
                                    "1": "33114",
                                    "2": "Harry Potter and the Sorcerer's Stone (Harry Potter, #1)",
                                    "3": "3"
                                }
                            ]
                        },
                        "text/html": [
                            "<table>",
                            "<tr><th>count</th><th>tag_id</th><th>title</th><th>goodreads_book_id</th></tr>",
                            "<tr><td>496107</td><td>30574</td><td>Harry Potter and the Sorcerer's Stone (Harry Potter, #1)</td><td>3</td></tr>",
                            "<tr><td>48220</td><td>11557</td><td>Harry Potter and the Sorcerer's Stone (Harry Potter, #1)</td><td>3</td></tr>",
                            "<tr><td>47478</td><td>11305</td><td>Harry Potter and the Sorcerer's Stone (Harry Potter, #1)</td><td>3</td></tr>",
                            "<tr><td>44640</td><td>8717</td><td>Harry Potter and the Sorcerer's Stone (Harry Potter, #1)</td><td>3</td></tr>",
                            "<tr><td>14984</td><td>33114</td><td>Harry Potter and the Sorcerer's Stone (Harry Potter, #1)</td><td>3</td></tr>",
                            "</table>"
                        ]
                    }
                },
                {
                    "output_type": "execute_result",
                    "metadata": {},
                    "execution_count": 224,
                    "data": {
                        "application/vnd.dataresource+json": {
                            "schema": {
                                "fields": [
                                    {
                                        "name": "tag_id"
                                    },
                                    {
                                        "name": "tag_name"
                                    }
                                ]
                            },
                            "data": [
                                {
                                    "0": "30574",
                                    "1": "to-read"
                                }
                            ]
                        },
                        "text/html": [
                            "<table>",
                            "<tr><th>tag_id</th><th>tag_name</th></tr>",
                            "<tr><td>30574</td><td>to-read</td></tr>",
                            "</table>"
                        ]
                    }
                }
            ],
            "execution_count": 224
        },
        {
            "cell_type": "markdown",
            "source": [
                "## **QUESTION 6:** Find a book based on a tag of your choice using joins.\n",
                "\n",
                "Some suggestions: any hobbies you like? baking, drawing, etc. how about favorite holidays, subjects, animals, etc?\n",
                "\n",
                "**Part A:** Explore the tags table for a tag of your choice.  Suggested ideas, try searching for one of your hobbies, a favorite time of year, favorite animal, etc.  Start by querying the tag table for your chosen tag.  (_Hint:_ in order to make sure you find all combinations of your tags, use the wildcard).  If your query returns more than one result, pick your favorite.\n",
                "\n",
                "> > _Here is an example.  Alyce wanted to search for halloween books.  She used the wildcard, '%halloween%' and 8 different combinations were found.  Alyce selected '**halloween-storytime**', with a tag id of 13877._\n",
                "\n",
                "> _Minimum Desired Output:_ <span style=\"font-family: -apple-system, BlinkMacSystemFont, sans-serif; background-color: rgba(127, 127, 127, 0.1);\">tag name and tag id</span>\n",
                "\n",
                "> **Your Tag and Tag Id: Crafts, 8433**\n",
                "\n",
                "**Part B:** Now that you have the **tag id**, find the title that was tagged the most with this tag by joining the books and books\\_tags tables.\n",
                "\n",
                "> > _Alyce joined the book table with the tags table and discovered that <u>The Little Old Lady Who Was Not Afraid of Anything</u> was tagged as '**halloween-storytime**' the most._\n",
                "\n",
                "> _Minimum Desired Output:_ <span style=\"background-color: rgba(127, 127, 127, 0.1); font-family: -apple-system, BlinkMacSystemFont, sans-serif;\">title and tag count</span>\n",
                "\n",
                "> **Your Title and Number of times the tag was used:**  **_On Writing: A Memoir of the Craft,_ tagged with 8433 -65 times**"
            ],
            "metadata": {
                "azdata_cell_guid": "df783e7e-3aff-4e63-9edb-f2e729c7d1c8"
            },
            "attachments": {}
        },
        {
            "cell_type": "code",
            "source": [
                "-- Code Here:\n",
                "--Look for Craft books\n",
                "SELECT TOP 5 bt.goodreads_book_id, bt.tag_id, t.tag_name\n",
                "FROM book_tags as bt \n",
                "LEFT JOIN tags AS t \n",
                "ON bt.tag_id = t.tag_id\n",
                "WHERE tag_name = 'craft'\n",
                "ORDER BY count DESC;\n",
                "\n",
                "--Title that was tagged the most as 'craft, 8433'\n",
                "SELECT TOP 5\n",
                "SUM(bt.count) AS tag_count, title\n",
                "FROM books AS b\n",
                "LEFT JOIN book_tags AS bt\n",
                "ON b.best_book_id = bt.goodreads_book_id\n",
                "WHERE tag_id = 8433\n",
                "GROUP BY title\n",
                "ORDER BY tag_count DESC;"
            ],
            "metadata": {
                "azdata_cell_guid": "c4b0b67c-7cfa-4f52-be97-ffe5cc28ed54",
                "tags": [],
                "language": "sql"
            },
            "outputs": [
                {
                    "output_type": "display_data",
                    "data": {
                        "text/html": "(5 rows affected)"
                    },
                    "metadata": {}
                },
                {
                    "output_type": "display_data",
                    "data": {
                        "text/html": "(5 rows affected)"
                    },
                    "metadata": {}
                },
                {
                    "output_type": "display_data",
                    "data": {
                        "text/html": "Total execution time: 00:00:00.316"
                    },
                    "metadata": {}
                },
                {
                    "output_type": "execute_result",
                    "metadata": {},
                    "execution_count": 222,
                    "data": {
                        "application/vnd.dataresource+json": {
                            "schema": {
                                "fields": [
                                    {
                                        "name": "goodreads_book_id"
                                    },
                                    {
                                        "name": "tag_id"
                                    },
                                    {
                                        "name": "tag_name"
                                    }
                                ]
                            },
                            "data": [
                                {
                                    "0": "10569",
                                    "1": "8433",
                                    "2": "craft"
                                },
                                {
                                    "0": "12543",
                                    "1": "8433",
                                    "2": "craft"
                                },
                                {
                                    "0": "33514",
                                    "1": "8433",
                                    "2": "craft"
                                },
                                {
                                    "0": "44905",
                                    "1": "8433",
                                    "2": "craft"
                                },
                                {
                                    "0": "1319",
                                    "1": "8433",
                                    "2": "craft"
                                }
                            ]
                        },
                        "text/html": [
                            "<table>",
                            "<tr><th>goodreads_book_id</th><th>tag_id</th><th>tag_name</th></tr>",
                            "<tr><td>10569</td><td>8433</td><td>craft</td></tr>",
                            "<tr><td>12543</td><td>8433</td><td>craft</td></tr>",
                            "<tr><td>33514</td><td>8433</td><td>craft</td></tr>",
                            "<tr><td>44905</td><td>8433</td><td>craft</td></tr>",
                            "<tr><td>1319</td><td>8433</td><td>craft</td></tr>",
                            "</table>"
                        ]
                    }
                },
                {
                    "output_type": "execute_result",
                    "metadata": {},
                    "execution_count": 222,
                    "data": {
                        "application/vnd.dataresource+json": {
                            "schema": {
                                "fields": [
                                    {
                                        "name": "tag_count"
                                    },
                                    {
                                        "name": "title"
                                    }
                                ]
                            },
                            "data": [
                                {
                                    "0": "65",
                                    "1": "On Writing: A Memoir of the Craft"
                                },
                                {
                                    "0": "46",
                                    "1": "Bird by Bird: Some Instructions on Writing and Life"
                                },
                                {
                                    "0": "29",
                                    "1": "The Elements of Style"
                                },
                                {
                                    "0": "22",
                                    "1": "Writing Down the Bones: Freeing the Writer Within"
                                },
                                {
                                    "0": "18",
                                    "1": "Big Magic: Creative Living Beyond Fear"
                                }
                            ]
                        },
                        "text/html": [
                            "<table>",
                            "<tr><th>tag_count</th><th>title</th></tr>",
                            "<tr><td>65</td><td>On Writing: A Memoir of the Craft</td></tr>",
                            "<tr><td>46</td><td>Bird by Bird: Some Instructions on Writing and Life</td></tr>",
                            "<tr><td>29</td><td>The Elements of Style</td></tr>",
                            "<tr><td>22</td><td>Writing Down the Bones: Freeing the Writer Within</td></tr>",
                            "<tr><td>18</td><td>Big Magic: Creative Living Beyond Fear</td></tr>",
                            "</table>"
                        ]
                    }
                }
            ],
            "execution_count": 222
        },
        {
            "cell_type": "markdown",
            "source": [
                "## **QUESTION 7:** What are the top 10 most popular book titles on the 'to read' list?\n",
                "\n",
                "**Part A:**  Explore how the **to\\_read** and **books** tables are organized, and then join them.  What will you use as a key?\n",
                "\n",
                "> Your Answer: book\\_id\n",
                "\n",
                "**Part B:** Organize your newly joined table in a way that groups popularity based on the title based on users.\n",
                "\n",
                "> _Hint:_ Suggest using an alias for the aggregation you will need to run on the **user\\_id**\n",
                "\n",
                "> _Minimum Desired Output:_ title and aliased column"
            ],
            "metadata": {
                "azdata_cell_guid": "4e5349b7-24f6-481a-9d88-bb4f86abc624"
            },
            "attachments": {}
        },
        {
            "cell_type": "code",
            "source": [
                "-- Code Here:\n",
                "--This counts the book_ids to tell you what the most popular book is on the to_read table. Title NULL values omitted. The Ultimate Hitchhikers \n",
                "--Guide to the Galaxy appeared on 1,812 user's to_read lists making it the most popular. \n",
                "SELECT TOP 10 \n",
                "COUNT (tr.book_id) 'most popular book count', tr.book_id, title\n",
                "FROM to_read AS tr\n",
                "LEFT JOIN books AS b \n",
                "ON tr.book_id = b.book_id\n",
                "WHERE b.title IS NOT NULL\n",
                "GROUP BY tr.book_id, b.title\n",
                "ORDER BY [most popular book count] DESC;"
            ],
            "metadata": {
                "azdata_cell_guid": "8af25df1-ce61-4152-8198-0b53c17642d0",
                "language": "sql",
                "tags": []
            },
            "outputs": [
                {
                    "output_type": "display_data",
                    "data": {
                        "text/html": "(10 rows affected)"
                    },
                    "metadata": {}
                },
                {
                    "output_type": "display_data",
                    "data": {
                        "text/html": "Total execution time: 00:00:00.183"
                    },
                    "metadata": {}
                },
                {
                    "output_type": "execute_result",
                    "metadata": {},
                    "execution_count": 178,
                    "data": {
                        "application/vnd.dataresource+json": {
                            "schema": {
                                "fields": [
                                    {
                                        "name": "most popular book count"
                                    },
                                    {
                                        "name": "book_id"
                                    },
                                    {
                                        "name": "title"
                                    }
                                ]
                            },
                            "data": [
                                {
                                    "0": "1812",
                                    "1": "13",
                                    "2": "The Ultimate Hitchhiker's Guide to the Galaxy"
                                },
                                {
                                    "0": "1767",
                                    "1": "11",
                                    "2": "The Hitchhiker's Guide to the Galaxy (Hitchhiker's Guide to the Galaxy, #1)"
                                },
                                {
                                    "0": "1499",
                                    "1": "119",
                                    "2": "The Lord of the Rings: The Art of The Fellowship of the Ring"
                                },
                                {
                                    "0": "1498",
                                    "1": "8",
                                    "2": "Harry Potter Boxed Set, Books 1-5 (Harry Potter, #1-5)"
                                },
                                {
                                    "0": "1484",
                                    "1": "6",
                                    "2": "Harry Potter and the Goblet of Fire (Harry Potter, #4)"
                                },
                                {
                                    "0": "1352",
                                    "1": "67",
                                    "2": "The Known World"
                                },
                                {
                                    "0": "1293",
                                    "1": "5",
                                    "2": "Harry Potter and the Prisoner of Azkaban (Harry Potter, #3)"
                                },
                                {
                                    "0": "1211",
                                    "1": "36",
                                    "2": "The Lord of the Rings: Weapons and Warfare"
                                },
                                {
                                    "0": "1148",
                                    "1": "28",
                                    "2": "Notes from a Small Island"
                                },
                                {
                                    "0": "1110",
                                    "1": "10",
                                    "2": "Harry Potter Collection (Harry Potter, #1-6)"
                                }
                            ]
                        },
                        "text/html": [
                            "<table>",
                            "<tr><th>most popular book count</th><th>book_id</th><th>title</th></tr>",
                            "<tr><td>1812</td><td>13</td><td>The Ultimate Hitchhiker's Guide to the Galaxy</td></tr>",
                            "<tr><td>1767</td><td>11</td><td>The Hitchhiker's Guide to the Galaxy (Hitchhiker's Guide to the Galaxy, #1)</td></tr>",
                            "<tr><td>1499</td><td>119</td><td>The Lord of the Rings: The Art of The Fellowship of the Ring</td></tr>",
                            "<tr><td>1498</td><td>8</td><td>Harry Potter Boxed Set, Books 1-5 (Harry Potter, #1-5)</td></tr>",
                            "<tr><td>1484</td><td>6</td><td>Harry Potter and the Goblet of Fire (Harry Potter, #4)</td></tr>",
                            "<tr><td>1352</td><td>67</td><td>The Known World</td></tr>",
                            "<tr><td>1293</td><td>5</td><td>Harry Potter and the Prisoner of Azkaban (Harry Potter, #3)</td></tr>",
                            "<tr><td>1211</td><td>36</td><td>The Lord of the Rings: Weapons and Warfare</td></tr>",
                            "<tr><td>1148</td><td>28</td><td>Notes from a Small Island</td></tr>",
                            "<tr><td>1110</td><td>10</td><td>Harry Potter Collection (Harry Potter, #1-6)</td></tr>",
                            "</table>"
                        ]
                    }
                }
            ],
            "execution_count": 178
        },
        {
            "cell_type": "markdown",
            "source": [
                "## **QUESTION 8:** Largest 'To Read' Lists\n",
                "\n",
                "**Part A:**  Create a query that returns a table that contains the top 10 users with the most number of titles on their 'to read' list.    Group all the entries by user\\_id.  \n",
                "\n",
                "> _Hint:_ You might want an alias for the titles.\n",
                "> \n",
                "> _Minimum Desired Output:_  user\\_id and your aliased column of titles.\n",
                "\n",
                "**Part B:**  The longest list length is 15 titles total, and is shared by 4 different users.  Select one of the uses and print out their entire '**to read**' list."
            ],
            "metadata": {
                "azdata_cell_guid": "0b0090b0-2b28-44c6-8bb6-06b4c03c3ff1"
            },
            "attachments": {}
        },
        {
            "cell_type": "code",
            "source": [
                "-- Code Here:\n",
                "SELECT TOP 10\n",
                "COUNT (user_id) as \"Number of book on /to read/ list\", user_id\n",
                "FROM books AS b\n",
                "LEFT JOIN to_read AS tr\n",
                "ON tr.book_id = b.book_id\n",
                "GROUP BY user_id\n",
                "ORDER BY [Number of book on /to read/ list] DESC;\n",
                "\n",
                "SELECT title \n",
                "FROM to_read AS tr \n",
                "LEFT JOIN books as b \n",
                "ON tr.book_id = b.book_id\n",
                "WHERE user_id = 14771 AND title IS NOT NULL;"
            ],
            "metadata": {
                "azdata_cell_guid": "c6c815f8-890d-4163-be63-3d300e320597",
                "tags": [],
                "language": "sql"
            },
            "outputs": [
                {
                    "output_type": "display_data",
                    "data": {
                        "text/html": "Warning: Null value is eliminated by an aggregate or other SET operation."
                    },
                    "metadata": {}
                },
                {
                    "output_type": "display_data",
                    "data": {
                        "text/html": "(10 rows affected)"
                    },
                    "metadata": {}
                },
                {
                    "output_type": "display_data",
                    "data": {
                        "text/html": "(15 rows affected)"
                    },
                    "metadata": {}
                },
                {
                    "output_type": "display_data",
                    "data": {
                        "text/html": "Total execution time: 00:00:00.332"
                    },
                    "metadata": {}
                },
                {
                    "output_type": "execute_result",
                    "metadata": {},
                    "execution_count": 177,
                    "data": {
                        "application/vnd.dataresource+json": {
                            "schema": {
                                "fields": [
                                    {
                                        "name": "Number of book on /to read/ list"
                                    },
                                    {
                                        "name": "user_id"
                                    }
                                ]
                            },
                            "data": [
                                {
                                    "0": "15",
                                    "1": "14771"
                                },
                                {
                                    "0": "15",
                                    "1": "12483"
                                },
                                {
                                    "0": "15",
                                    "1": "11932"
                                },
                                {
                                    "0": "15",
                                    "1": "38201"
                                },
                                {
                                    "0": "14",
                                    "1": "36923"
                                },
                                {
                                    "0": "14",
                                    "1": "41523"
                                },
                                {
                                    "0": "14",
                                    "1": "27933"
                                },
                                {
                                    "0": "14",
                                    "1": "37359"
                                },
                                {
                                    "0": "13",
                                    "1": "25734"
                                },
                                {
                                    "0": "13",
                                    "1": "51137"
                                }
                            ]
                        },
                        "text/html": [
                            "<table>",
                            "<tr><th>Number of book on /to read/ list</th><th>user_id</th></tr>",
                            "<tr><td>15</td><td>14771</td></tr>",
                            "<tr><td>15</td><td>12483</td></tr>",
                            "<tr><td>15</td><td>11932</td></tr>",
                            "<tr><td>15</td><td>38201</td></tr>",
                            "<tr><td>14</td><td>36923</td></tr>",
                            "<tr><td>14</td><td>41523</td></tr>",
                            "<tr><td>14</td><td>27933</td></tr>",
                            "<tr><td>14</td><td>37359</td></tr>",
                            "<tr><td>13</td><td>25734</td></tr>",
                            "<tr><td>13</td><td>51137</td></tr>",
                            "</table>"
                        ]
                    }
                },
                {
                    "output_type": "execute_result",
                    "metadata": {},
                    "execution_count": 177,
                    "data": {
                        "application/vnd.dataresource+json": {
                            "schema": {
                                "fields": [
                                    {
                                        "name": "title"
                                    }
                                ]
                            },
                            "data": [
                                {
                                    "0": "The Fellowship of the Ring (The Lord of the Rings, #1)"
                                },
                                {
                                    "0": "Harry Potter and the Order of the Phoenix (Harry Potter, #5)"
                                },
                                {
                                    "0": "Harry Potter and the Goblet of Fire (Harry Potter, #4)"
                                },
                                {
                                    "0": "J.R.R. Tolkien 4-Book Boxed Set: The Hobbit and The Lord of the Rings"
                                },
                                {
                                    "0": "In a Sunburned Country"
                                },
                                {
                                    "0": "A Widow for One Year"
                                },
                                {
                                    "0": "Tropic of Cancer"
                                },
                                {
                                    "0": "The Iliad/The Odyssey"
                                },
                                {
                                    "0": "The Lost Continent: Travels in Small Town America"
                                },
                                {
                                    "0": "The New York Trilogy"
                                },
                                {
                                    "0": "The Lord of the Rings: The Art of The Fellowship of the Ring"
                                },
                                {
                                    "0": "The Known World"
                                },
                                {
                                    "0": "Ten Apples Up On Top!"
                                },
                                {
                                    "0": "Leviathan"
                                },
                                {
                                    "0": "What to Expect the First Year (What to Expect)"
                                }
                            ]
                        },
                        "text/html": [
                            "<table>",
                            "<tr><th>title</th></tr>",
                            "<tr><td>The Fellowship of the Ring (The Lord of the Rings, #1)</td></tr>",
                            "<tr><td>Harry Potter and the Order of the Phoenix (Harry Potter, #5)</td></tr>",
                            "<tr><td>Harry Potter and the Goblet of Fire (Harry Potter, #4)</td></tr>",
                            "<tr><td>J.R.R. Tolkien 4-Book Boxed Set: The Hobbit and The Lord of the Rings</td></tr>",
                            "<tr><td>In a Sunburned Country</td></tr>",
                            "<tr><td>A Widow for One Year</td></tr>",
                            "<tr><td>Tropic of Cancer</td></tr>",
                            "<tr><td>The Iliad/The Odyssey</td></tr>",
                            "<tr><td>The Lost Continent: Travels in Small Town America</td></tr>",
                            "<tr><td>The New York Trilogy</td></tr>",
                            "<tr><td>The Lord of the Rings: The Art of The Fellowship of the Ring</td></tr>",
                            "<tr><td>The Known World</td></tr>",
                            "<tr><td>Ten Apples Up On Top!</td></tr>",
                            "<tr><td>Leviathan</td></tr>",
                            "<tr><td>What to Expect the First Year (What to Expect)</td></tr>",
                            "</table>"
                        ]
                    }
                }
            ],
            "execution_count": 177
        }
    ]
}